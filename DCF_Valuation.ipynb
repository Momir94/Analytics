{
  "cells": [
    {
      "cell_type": "markdown",
      "metadata": {
        "id": "view-in-github",
        "colab_type": "text"
      },
      "source": [
        "<a href=\"https://colab.research.google.com/github/Momir94/Analytics/blob/main/DCF_Valuation.ipynb\" target=\"_parent\"><img src=\"https://colab.research.google.com/assets/colab-badge.svg\" alt=\"Open In Colab\"/></a>"
      ]
    },
    {
      "cell_type": "code",
      "execution_count": null,
      "metadata": {
        "id": "UOCuXJYVoo8J"
      },
      "outputs": [],
      "source": [
        "#pip install ipywidgets"
      ]
    },
    {
      "cell_type": "code",
      "execution_count": null,
      "metadata": {
        "id": "obkadRIhoo8M"
      },
      "outputs": [],
      "source": [
        "import requests\n",
        "import datetime as dt\n",
        "import pandas as pd\n",
        "import numpy as np\n",
        "import matplotlib.pyplot as plt\n",
        "from scipy.stats import norm\n",
        "import bs4\n",
        "from pycoingecko import CoinGeckoAPI\n",
        "from collections import Counter\n",
        "import matplotlib as mpl\n",
        "from scipy.optimize import minimize\n",
        "from scipy.optimize import Bounds\n",
        "import crv\n",
        "import uni\n",
        "\n",
        "cg = CoinGeckoAPI()\n",
        "\n",
        "pd.options.mode.chained_assignment = None  # default='warn' exclude warning for chained assingments"
      ]
    },
    {
      "cell_type": "code",
      "execution_count": null,
      "metadata": {
        "id": "oVM32b8hoo8M"
      },
      "outputs": [],
      "source": [
        "pd.set_option('display.float_format', lambda x: '%.4f' % x) ## change float at the macro level\n",
        "plt.rcParams[\"figure.figsize\"] = (14, 6) ## change plot size at the macro level\n",
        "mpl.rcParams['figure.dpi'] = 300 ## graph resolution"
      ]
    },
    {
      "cell_type": "markdown",
      "metadata": {
        "id": "zuKVhsHRoo8N"
      },
      "source": [
        "## Model inputs\n",
        "\n",
        "1. number of years prior to calculating terminal growth (default 10)\n",
        "2. growth rates over the given number of years (default assume decreasing growth rate starting with the highest in year 1 and decreasing at a certain ***factor*** till reaching terminal growth rate)\n",
        "3. terminal growth rate\n",
        "4. discount rate (we assume discount rates are not static, but also decrease with the time)\n",
        "5. monthly base (total trading volume, total borrowing volume, etc.)\n",
        "6. fees; where base * fees = revenue\n",
        "7. token distribution"
      ]
    },
    {
      "cell_type": "code",
      "execution_count": null,
      "metadata": {
        "id": "kdnK7am4oo8O"
      },
      "outputs": [],
      "source": [
        "num_years = 10 #number of years prior to calculating terminal growth\n",
        "num_periods = num_years * 12 #10 years monthly data (assuming each month has 30 days)\n",
        "\n",
        "\n",
        "def dates(num_periods = num_periods):    \n",
        "    start = pd.to_datetime(dt.datetime.today().date())\n",
        "    starts = [start]\n",
        "    for i in range(num_periods - 1):\n",
        "        starts.append(starts[i] + dt.timedelta(30))\n",
        "        \n",
        "    return starts\n",
        "\n",
        "starts = dates()"
      ]
    },
    {
      "cell_type": "markdown",
      "metadata": {
        "id": "fyFEt1n_oo8P"
      },
      "source": [
        "## Token Daily Details (Unique)\n",
        "Would likely require manual work in collecting and sometimes approximating token distribution. \n",
        "\n",
        "Regardless of the different token make sure that:\n",
        "- Token Distribution is stored as pandas Series, \n",
        "- Daily data\n",
        "- Start date of the Series should be before (equal) the analysis start date, while the end date should be after (equal) to the analysis end date. \n",
        "\n",
        "The formula will automatically exclude irrelevant values. For instance, if analysis is covering monthly intervals, it will filter only one day per month. This is approximation, to futher improve precision we should consider averaging number of tokens for each month rather than assuming that number during the month was constant and equal to the particular date. \n"
      ]
    },
    {
      "cell_type": "code",
      "execution_count": null,
      "metadata": {
        "id": "Epq_wHEpoo8P",
        "outputId": "36561512-e14e-4891-e338-8c64ca04bbd0"
      },
      "outputs": [
        {
          "name": "stdout",
          "output_type": "stream",
          "text": [
            "True\n"
          ]
        },
        {
          "name": "stderr",
          "output_type": "stream",
          "text": [
            "C:\\Users\\amidz\\Desktop\\Quandefi\\crv.py:28: FutureWarning: The series.append method is deprecated and will be removed from pandas in a future version. Use pandas.concat instead.\n",
            "  CRV_distribution = CRV_distribution.append(pd.Series(index = dates, data = crvs))\n"
          ]
        }
      ],
      "source": [
        "Token_distribution = crv.token_distribution(starts)"
      ]
    },
    {
      "cell_type": "markdown",
      "metadata": {
        "id": "5zGIqKN5oo8Q"
      },
      "source": [
        "## Choosing the right decreasing schedule to give us reasonable growth and discount rate in year 10\n",
        "\n",
        "- make sure that the discount rate in the final year of estimation is larger than the terminal growth rate"
      ]
    },
    {
      "cell_type": "code",
      "execution_count": null,
      "metadata": {
        "id": "9fjihYWFoo8Q"
      },
      "outputs": [],
      "source": [
        "def terminal (expansion_growth, decreasing_factor, num_years = 10):\n",
        "    se_ = (np.ones(num_years))\n",
        "    se_[0] = expansion_growth\n",
        "    se_[1:] = decreasing_factor\n",
        "\n",
        "    growth_rates = list(np.cumprod(se_))\n",
        "    \n",
        "    return growth_rates[-1]\n",
        "\n",
        "\n",
        "def compute_decr_r (target_terminal, guess, expansion_growth):\n",
        "\n",
        "    '''''''''\n",
        "    Computing decreasing rate factor to satisfy target terminal rate knowing that the expected growth rate in the first year is equal to certain number.\n",
        "    \n",
        "    target_terminal - target growth/discount rate in year 10 e.g. 15%\n",
        "    guess - guess the decreasing rate e.g. 0.8\n",
        "    expansion_growth - first year growth/discount rate\n",
        "    '''''''''\n",
        "    \n",
        "    x = guess \n",
        "    f = lambda x: terminal(expansion_growth, decreasing_factor=x) #function to minimize \n",
        "    cons = [{\"type\": \"eq\", \"fun\": lambda x: terminal(expansion_growth, decreasing_factor=x) - target_terminal}] \n",
        "    res = minimize(f, x, method='SLSQP', constraints=cons)   \n",
        "\n",
        "    return res.x[0]"
      ]
    },
    {
      "cell_type": "code",
      "execution_count": null,
      "metadata": {
        "id": "wJWem3VZoo8R",
        "outputId": "ad2d541c-f684-465b-e908-311d90970a71"
      },
      "outputs": [
        {
          "data": {
            "text/html": [
              "<div>\n",
              "<style scoped>\n",
              "    .dataframe tbody tr th:only-of-type {\n",
              "        vertical-align: middle;\n",
              "    }\n",
              "\n",
              "    .dataframe tbody tr th {\n",
              "        vertical-align: top;\n",
              "    }\n",
              "\n",
              "    .dataframe thead th {\n",
              "        text-align: right;\n",
              "    }\n",
              "</style>\n",
              "<table border=\"1\" class=\"dataframe\">\n",
              "  <thead>\n",
              "    <tr style=\"text-align: right;\">\n",
              "      <th></th>\n",
              "      <th>Rates</th>\n",
              "    </tr>\n",
              "  </thead>\n",
              "  <tbody>\n",
              "    <tr>\n",
              "      <th>1</th>\n",
              "      <td>0.5000</td>\n",
              "    </tr>\n",
              "    <tr>\n",
              "      <th>2</th>\n",
              "      <td>0.3871</td>\n",
              "    </tr>\n",
              "    <tr>\n",
              "      <th>3</th>\n",
              "      <td>0.2997</td>\n",
              "    </tr>\n",
              "    <tr>\n",
              "      <th>4</th>\n",
              "      <td>0.2321</td>\n",
              "    </tr>\n",
              "    <tr>\n",
              "      <th>5</th>\n",
              "      <td>0.1797</td>\n",
              "    </tr>\n",
              "    <tr>\n",
              "      <th>6</th>\n",
              "      <td>0.1391</td>\n",
              "    </tr>\n",
              "    <tr>\n",
              "      <th>7</th>\n",
              "      <td>0.1077</td>\n",
              "    </tr>\n",
              "    <tr>\n",
              "      <th>8</th>\n",
              "      <td>0.0834</td>\n",
              "    </tr>\n",
              "    <tr>\n",
              "      <th>9</th>\n",
              "      <td>0.0646</td>\n",
              "    </tr>\n",
              "    <tr>\n",
              "      <th>10</th>\n",
              "      <td>0.0500</td>\n",
              "    </tr>\n",
              "  </tbody>\n",
              "</table>\n",
              "</div>"
            ],
            "text/plain": [
              "    Rates\n",
              "1  0.5000\n",
              "2  0.3871\n",
              "3  0.2997\n",
              "4  0.2321\n",
              "5  0.1797\n",
              "6  0.1391\n",
              "7  0.1077\n",
              "8  0.0834\n",
              "9  0.0646\n",
              "10 0.0500"
            ]
          },
          "execution_count": 186,
          "metadata": {},
          "output_type": "execute_result"
        }
      ],
      "source": [
        "terminal_growth = 0.05 #ANNUAL\n",
        "expansion_growth = 0.5\n",
        "\n",
        "decreasing_factor = compute_decr_r (terminal_growth, 0.8, expansion_growth)\n",
        "\n",
        "def schedule (decreasing_factor, year1):\n",
        "    schedule = np.ones(10) * decreasing_factor\n",
        "    schedule[0] = year1\n",
        "    rates = pd.DataFrame(np.cumprod(schedule), index = np.arange(1,11), columns=['Rates'])\n",
        "    \n",
        "    return rates\n",
        "\n",
        "growth_rates = schedule(decreasing_factor, expansion_growth)\n",
        "growth_rates"
      ]
    },
    {
      "cell_type": "code",
      "execution_count": null,
      "metadata": {
        "id": "fKrc_KJHoo8R",
        "outputId": "0eafecd2-8308-439e-a944-1d7b8794ad79"
      },
      "outputs": [
        {
          "data": {
            "text/html": [
              "<div>\n",
              "<style scoped>\n",
              "    .dataframe tbody tr th:only-of-type {\n",
              "        vertical-align: middle;\n",
              "    }\n",
              "\n",
              "    .dataframe tbody tr th {\n",
              "        vertical-align: top;\n",
              "    }\n",
              "\n",
              "    .dataframe thead th {\n",
              "        text-align: right;\n",
              "    }\n",
              "</style>\n",
              "<table border=\"1\" class=\"dataframe\">\n",
              "  <thead>\n",
              "    <tr style=\"text-align: right;\">\n",
              "      <th></th>\n",
              "      <th>Rates</th>\n",
              "    </tr>\n",
              "  </thead>\n",
              "  <tbody>\n",
              "    <tr>\n",
              "      <th>1</th>\n",
              "      <td>0.3769</td>\n",
              "    </tr>\n",
              "    <tr>\n",
              "      <th>2</th>\n",
              "      <td>0.3402</td>\n",
              "    </tr>\n",
              "    <tr>\n",
              "      <th>3</th>\n",
              "      <td>0.3071</td>\n",
              "    </tr>\n",
              "    <tr>\n",
              "      <th>4</th>\n",
              "      <td>0.2772</td>\n",
              "    </tr>\n",
              "    <tr>\n",
              "      <th>5</th>\n",
              "      <td>0.2502</td>\n",
              "    </tr>\n",
              "    <tr>\n",
              "      <th>6</th>\n",
              "      <td>0.2259</td>\n",
              "    </tr>\n",
              "    <tr>\n",
              "      <th>7</th>\n",
              "      <td>0.2039</td>\n",
              "    </tr>\n",
              "    <tr>\n",
              "      <th>8</th>\n",
              "      <td>0.1840</td>\n",
              "    </tr>\n",
              "    <tr>\n",
              "      <th>9</th>\n",
              "      <td>0.1661</td>\n",
              "    </tr>\n",
              "    <tr>\n",
              "      <th>10</th>\n",
              "      <td>0.1500</td>\n",
              "    </tr>\n",
              "  </tbody>\n",
              "</table>\n",
              "</div>"
            ],
            "text/plain": [
              "    Rates\n",
              "1  0.3769\n",
              "2  0.3402\n",
              "3  0.3071\n",
              "4  0.2772\n",
              "5  0.2502\n",
              "6  0.2259\n",
              "7  0.2039\n",
              "8  0.1840\n",
              "9  0.1661\n",
              "10 0.1500"
            ]
          },
          "execution_count": 187,
          "metadata": {},
          "output_type": "execute_result"
        }
      ],
      "source": [
        "discount = 0.3769 #annual\n",
        "decreasing_factor_discount = compute_decr_r (0.15, 0.7, discount)\n",
        "\n",
        "discount_rates = schedule(decreasing_factor_discount, discount)\n",
        "discount_rates"
      ]
    },
    {
      "cell_type": "markdown",
      "metadata": {
        "id": "LrlKqbF0oo8S"
      },
      "source": [
        "## Model parameter set-up"
      ]
    },
    {
      "cell_type": "code",
      "execution_count": null,
      "metadata": {
        "id": "BhyxT7J0oo8S"
      },
      "outputs": [],
      "source": [
        "staked = 1 #Some protocols require tokens to be staked in order to capture revenue, we approach valuation from a staker perspective. If there is no staking requirement or everyone stakes we can simply set this parameter equal to 1. For simplicity assume always 1, otherwise we also have to change discount rate to account for illiquidity. \n",
        "base = 115000000 * 30 # $ Volume monthly\n",
        "fees = 0.0002 # Protocol fees in case volume is basis / Interest rate in case TVL is basis"
      ]
    },
    {
      "cell_type": "code",
      "execution_count": null,
      "metadata": {
        "id": "f49NVv8zoo8S"
      },
      "outputs": [],
      "source": [
        "def DCF_simple(growth_rates = growth_rates, discount_rates = discount_rates, terminal_growth_in_profit = terminal_growth,\n",
        "    num_years = num_years, num_periods = num_periods, starts = starts, Token_distribution = Token_distribution, \n",
        "               base = base, rates = fees, tokens_staked = staked):\n",
        "    \n",
        "    growth_rates = list(growth_rates['Rates'])\n",
        "    discount_rates = list(discount_rates['Rates'])\n",
        "    \n",
        "    df = pd.DataFrame(data = np.arange(1, num_periods+1), index = starts, columns=[\"Index\"])\n",
        "    df[\"Monthly Growth Rates\"] = 1\n",
        "\n",
        "    t = 0\n",
        "    for i in range(num_years):\n",
        "        df[\"Monthly Growth Rates\"][t:t+12] = (1+growth_rates[i])**(1/12)-1\n",
        "        t+=12\n",
        "\n",
        "        \n",
        "    df[\"Monthly Discount Rates\"] = 1\n",
        "\n",
        "    t = 0\n",
        "    for i in range(num_years):\n",
        "        df[\"Monthly Discount Rates\"][t:t+12] = (1+discount_rates[i])**(1/12)-1\n",
        "        t+=12\n",
        "  \n",
        "        \n",
        "    df = pd.concat([df, pd.DataFrame(Token_distribution[starts], columns=[\"Token Distribution\"])], axis = 1) \n",
        "    df[\"Staked Tokens\"] = tokens_staked * df[\"Token Distribution\"]\n",
        "\n",
        "    ## Expected Volume\n",
        "\n",
        "    df[\"Forecast\"] = 1\n",
        "    forecast = [base*(1+growth_rates[0])**(1/12)]\n",
        "    for i in range(len(df)-1):\n",
        "        forecast.append(forecast[i]*(1+list(df[\"Monthly Growth Rates\"])[i+1]))\n",
        "\n",
        "    df[\"Forecast\"] = forecast\n",
        "\n",
        "    ## REVENUE\n",
        "    df[\"Protocol Revenue\"] = df[\"Forecast\"] * rates\n",
        "    df[\"Revenue Per Token\"] = df[\"Protocol Revenue\"] / df[\"Staked Tokens\"] ## Revenue per staked tokens\n",
        "\n",
        "    ##DISCOUNTING \n",
        "    df[\"Discount Factor\"] = np.cumprod(df['Monthly Discount Rates']+1)\n",
        "    df[\"Discounted Revenue Per Token\"] = df[\"Revenue Per Token\"] / df[\"Discount Factor\"]\n",
        "\n",
        "    #TERMINAL VALUE\n",
        "    \n",
        "    terminal_growth_monthly = (1+terminal_growth_in_profit)**(1/12)-1\n",
        "    terminal_discount_monthly = df['Monthly Discount Rates'][-1]\n",
        "    terminal_discount = (1+terminal_discount_monthly)**12 - 1\n",
        "    \n",
        "    TV = df[\"Revenue Per Token\"][-1] * (1+terminal_growth_monthly) / (terminal_discount_monthly - terminal_growth_monthly)\n",
        "    TV_discounted = TV / df['Discount Factor'][-1]\n",
        "\n",
        "    #FINAL PRICE\n",
        "    price_per_token = TV_discounted + df[\"Discounted Revenue Per Token\"].sum()\n",
        "\n",
        "    return price_per_token"
      ]
    },
    {
      "cell_type": "code",
      "execution_count": null,
      "metadata": {
        "id": "lCqyjcgmoo8S",
        "outputId": "bf1e27c8-ef7e-4972-a434-beb3ce23c259"
      },
      "outputs": [
        {
          "data": {
            "text/plain": [
              "0.05622402346726865"
            ]
          },
          "execution_count": 271,
          "metadata": {},
          "output_type": "execute_result"
        }
      ],
      "source": [
        "DCF_simple()"
      ]
    },
    {
      "cell_type": "code",
      "execution_count": null,
      "metadata": {
        "id": "zytftKHZoo8T"
      },
      "outputs": [],
      "source": [
        "def implied_growth (current_price, x = 0.8):\n",
        "    '''''''''        \n",
        "    current_price - token price to be used as a basis for deriving implied growth rates.\n",
        "    \n",
        "    x - initial guess for the optimization problem by default 100%.\n",
        "    '''''''''\n",
        "    \n",
        "    f = lambda x: DCF_simple(growth_rates = schedule(decreasing_factor, x)) #function to minimize \n",
        "    cons = [{\"type\": \"eq\", \"fun\": lambda x: DCF_simple(growth_rates = schedule(decreasing_factor, x)) - current_price}] \n",
        "    res = minimize(f, x, method='SLSQP', constraints=cons)   \n",
        "    \n",
        "    return res.x[0]"
      ]
    },
    {
      "cell_type": "code",
      "execution_count": null,
      "metadata": {
        "id": "Fca8OOBEoo8T",
        "outputId": "8771856f-cad3-49c9-d339-62802c5f57ec"
      },
      "outputs": [
        {
          "data": {
            "text/plain": [
              "1.8630717603108418"
            ]
          },
          "execution_count": 273,
          "metadata": {},
          "output_type": "execute_result"
        }
      ],
      "source": [
        "implied_growth(current_price=1)"
      ]
    },
    {
      "cell_type": "code",
      "execution_count": null,
      "metadata": {
        "id": "ZqUo0CUDoo8T"
      },
      "outputs": [],
      "source": [
        "annual_base = base * 12\n",
        "target_multiple = 15"
      ]
    },
    {
      "cell_type": "code",
      "execution_count": null,
      "metadata": {
        "id": "dOIopv2ooo8T"
      },
      "outputs": [],
      "source": [
        "def multiples(target_multiple = target_multiple, growth_rates = growth_rates, discount_rates = discount_rates, \n",
        "              num_years = num_years, Token_distribution = Token_distribution, \n",
        "               base = annual_base, rates = fees, annual_discount = discount):\n",
        "    \n",
        "    \n",
        "    growth_rates = list(growth_rates['Rates'])[:num_years]\n",
        "    discount_rates = list(discount_rates['Rates'])[:num_years]\n",
        "\n",
        "\n",
        "    df = pd.DataFrame(data = np.arange(1, num_years+1), index = np.arange(1, num_years+1), columns=[\"Year\"])\n",
        "    df[\"Annual Growth Rates\"] = 1\n",
        "\n",
        "\n",
        "    for i in range(num_years):\n",
        "        df[\"Annual Growth Rates\"][i:i+1] = (1+growth_rates[i])\n",
        "\n",
        "\n",
        "    ## Expected Volume\n",
        "\n",
        "    df[\"Forecast\"] = 1\n",
        "\n",
        "    forecast = [annual_base*(1+growth_rates[0])]\n",
        "    for i in range(len(df)-1):\n",
        "        forecast.append(forecast[i]*(list(df[\"Annual Growth Rates\"])[i+1]))\n",
        "\n",
        "    df[\"Forecast\"] = forecast\n",
        "\n",
        "    ## REVENUE\n",
        "    df[\"Protocol Revenue\"] = df[\"Forecast\"] * rates\n",
        "    \n",
        "    market_cap = target_multiple * df.iloc[-1, -1]\n",
        "    \n",
        "    df[\"Target Multiple\"] = target_multiple \n",
        "    \n",
        "    df[\"Market Cap\"] = df[\"Target Multiple\"] * df[\"Protocol Revenue\"]\n",
        "    \n",
        "    \n",
        "    \n",
        "    dates = []\n",
        "    for i in range(num_years):\n",
        "        dates.append(dt.datetime((dt.datetime.today() + dt.timedelta(365*(i+1))).year, \n",
        "                (dt.datetime.today() + dt.timedelta(365*(i+1))).month, \n",
        "                (dt.datetime.today() + dt.timedelta(365*(i+1))).day))\n",
        "        \n",
        "    circ_supply = []\n",
        "    for i in range(num_years):\n",
        "        circ_supply.append(Token_distribution[Token_distribution.index == dates[i]][0])\n",
        "        \n",
        "    df[\"Circulating Supply\"] = circ_supply\n",
        "    \n",
        "    df[\"Price Per Token\"] = df[\"Market Cap\"] / df[\"Circulating Supply\"]\n",
        "    \n",
        "    df[\"Discount Rates\"] = discount_rates\n",
        "        \n",
        "\n",
        "    date = dt.datetime((dt.datetime.today() + dt.timedelta(365*num_years)).year, \n",
        "                (dt.datetime.today() + dt.timedelta(365*num_years)).month, \n",
        "                (dt.datetime.today() + dt.timedelta(365*num_years)).day)\n",
        "\n",
        "\n",
        "    circulating_supply = Token_distribution[Token_distribution.index == date][0]\n",
        "\n",
        "    price_per_token = market_cap/circulating_supply\n",
        "    \n",
        "    discount_rates.reverse()\n",
        "\n",
        "    for i in range(len(discount_rates)):\n",
        "        discount_rates[i] = 1/(discount_rates[i]+1)\n",
        "\n",
        "    discount_rates[0] = price_per_token * discount_rates[0]\n",
        "\n",
        "    price = (np.cumprod(discount_rates))\n",
        "\n",
        "\n",
        "    return price[-1]"
      ]
    },
    {
      "cell_type": "code",
      "execution_count": null,
      "metadata": {
        "id": "VZPqb6bqoo8U"
      },
      "outputs": [],
      "source": [
        "def implied_growth1 (current_price, num_years, guess = 1):\n",
        "    '''''''''\n",
        "    terminal growth - growth in profits into perpetuity after 10 years of dynamic growth rates.\n",
        "    \n",
        "    base - if exchange, then MONTHLY volume to be used as a base in the estimation.\n",
        "    \n",
        "    fees - if exchange, then fees that are basis for revenue calculation e.g. \n",
        "        in case of Curve it is 0.0002 despite Curve is charging 0.0004 per transaction as \n",
        "        fees are split 50:50 between protocol and liquidity providers. Simply, we aim to\n",
        "        calculate protocol revenue only. \n",
        "    \n",
        "    discount - annual discount rate\n",
        "        \n",
        "    current_price - tokens price to be used as a basis for deriving implied growth rates.\n",
        "    \n",
        "    guess - initial guess for the optimization problem by default 100%.\n",
        "    '''''''''\n",
        "        \n",
        "    x = guess \n",
        "    f = lambda x: multiples(growth_rates = schedule(decreasing_factor, x), num_years = num_years) #function to minimize \n",
        "    cons = [{\"type\": \"eq\", \"fun\": lambda x: multiples(growth_rates = schedule(decreasing_factor, x), num_years=num_years) - current_price}] \n",
        "    res = minimize(f, x, method='SLSQP', constraints=cons)   \n",
        "    \n",
        "    return res.x[0]"
      ]
    },
    {
      "cell_type": "code",
      "execution_count": null,
      "metadata": {
        "id": "66BFkwKYoo8U",
        "outputId": "f7c06aa7-1658-431e-9492-95164b3102c9"
      },
      "outputs": [
        {
          "data": {
            "text/plain": [
              "1.9391721959896806"
            ]
          },
          "execution_count": 287,
          "metadata": {},
          "output_type": "execute_result"
        }
      ],
      "source": [
        "implied_growth1(current_price=1, num_years=9)"
      ]
    },
    {
      "cell_type": "markdown",
      "metadata": {
        "id": "5INyAk4Ooo8U"
      },
      "source": [
        "# Sanity Check"
      ]
    },
    {
      "cell_type": "code",
      "execution_count": null,
      "metadata": {
        "id": "HMC3tN8Woo8U"
      },
      "outputs": [],
      "source": [
        "def sanity (current_price, num_years = 5):\n",
        "    \n",
        "    se_ = (np.ones(num_years))\n",
        "    se_[0] = implied_growth(current_price=current_price)\n",
        "    se_[1:] = decreasing_factor\n",
        "\n",
        "    growth_rates = (np.cumprod(se_))    \n",
        "    \n",
        "    expected_volume = np.ones(len(growth_rates))\n",
        "    expected_volume[0] = base * 12 * (1+growth_rates[0])\n",
        "\n",
        "    for i in range(1, len(growth_rates)):\n",
        "        expected_volume[i] = expected_volume[i-1] * (1+growth_rates[i])\n",
        "\n",
        "    expected = pd.DataFrame([np.arange(dt.datetime.today().year+1, dt.datetime.today().year + num_years+1), \n",
        "                             expected_volume/1000000000/360, growth_rates * 100]).T    \n",
        "    expected.columns = ['Year', 'Implied Daily Average Volume in $B', 'Growth Rates %']\n",
        "    expected = expected.set_index('Year')\n",
        "    \n",
        "    return expected "
      ]
    },
    {
      "cell_type": "code",
      "execution_count": null,
      "metadata": {
        "id": "wQvEa6eioo8U",
        "outputId": "b04dfb6d-015f-493f-f84d-f6a6d87bb256"
      },
      "outputs": [
        {
          "data": {
            "text/html": [
              "<div>\n",
              "<style scoped>\n",
              "    .dataframe tbody tr th:only-of-type {\n",
              "        vertical-align: middle;\n",
              "    }\n",
              "\n",
              "    .dataframe tbody tr th {\n",
              "        vertical-align: top;\n",
              "    }\n",
              "\n",
              "    .dataframe thead th {\n",
              "        text-align: right;\n",
              "    }\n",
              "</style>\n",
              "<table border=\"1\" class=\"dataframe\">\n",
              "  <thead>\n",
              "    <tr style=\"text-align: right;\">\n",
              "      <th></th>\n",
              "      <th>Implied Daily Average Volume in $B</th>\n",
              "      <th>Growth Rates %</th>\n",
              "    </tr>\n",
              "    <tr>\n",
              "      <th>Year</th>\n",
              "      <th></th>\n",
              "      <th></th>\n",
              "    </tr>\n",
              "  </thead>\n",
              "  <tbody>\n",
              "    <tr>\n",
              "      <th>2023.0000</th>\n",
              "      <td>0.3293</td>\n",
              "      <td>186.3072</td>\n",
              "    </tr>\n",
              "    <tr>\n",
              "      <th>2024.0000</th>\n",
              "      <td>0.8042</td>\n",
              "      <td>144.2509</td>\n",
              "    </tr>\n",
              "    <tr>\n",
              "      <th>2025.0000</th>\n",
              "      <td>1.7024</td>\n",
              "      <td>111.6882</td>\n",
              "    </tr>\n",
              "    <tr>\n",
              "      <th>2026.0000</th>\n",
              "      <td>3.1746</td>\n",
              "      <td>86.4761</td>\n",
              "    </tr>\n",
              "    <tr>\n",
              "      <th>2027.0000</th>\n",
              "      <td>5.3001</td>\n",
              "      <td>66.9553</td>\n",
              "    </tr>\n",
              "  </tbody>\n",
              "</table>\n",
              "</div>"
            ],
            "text/plain": [
              "           Implied Daily Average Volume in $B  Growth Rates %\n",
              "Year                                                         \n",
              "2023.0000                              0.3293        186.3072\n",
              "2024.0000                              0.8042        144.2509\n",
              "2025.0000                              1.7024        111.6882\n",
              "2026.0000                              3.1746         86.4761\n",
              "2027.0000                              5.3001         66.9553"
            ]
          },
          "execution_count": 289,
          "metadata": {},
          "output_type": "execute_result"
        }
      ],
      "source": [
        "sanity(1)"
      ]
    },
    {
      "cell_type": "code",
      "execution_count": null,
      "metadata": {
        "id": "ZL7cOjXnoo8V"
      },
      "outputs": [],
      "source": [
        "def sanity1 (current_price, num_years):\n",
        "    \n",
        "    se_ = (np.ones(num_years))\n",
        "    se_[0] = implied_growth1(current_price=current_price, num_years=num_years)\n",
        "    se_[1:] = decreasing_factor\n",
        "\n",
        "    growth_rates = (np.cumprod(se_))    \n",
        "    \n",
        "    expected_volume = np.ones(len(growth_rates))\n",
        "    expected_volume[0] = base * 12 * (1+growth_rates[0])\n",
        "\n",
        "    for i in range(1, len(growth_rates)):\n",
        "        expected_volume[i] = expected_volume[i-1] * (1+growth_rates[i])\n",
        "\n",
        "\n",
        "    expected = pd.DataFrame([np.arange(dt.datetime.today().year+1, dt.datetime.today().year + num_years+1), expected_volume/1000000000/360, growth_rates * 100]).T\n",
        "    expected.columns = ['Year', 'Implied Daily Average Volume in $B', 'Growth Rates %']\n",
        "    expected = expected.set_index('Year')\n",
        "    \n",
        "    return expected "
      ]
    },
    {
      "cell_type": "code",
      "execution_count": null,
      "metadata": {
        "id": "0pi0NdM2oo8V",
        "outputId": "3c3a1033-f0dd-4181-9ccf-261cf2893f16"
      },
      "outputs": [
        {
          "data": {
            "text/html": [
              "<div>\n",
              "<style scoped>\n",
              "    .dataframe tbody tr th:only-of-type {\n",
              "        vertical-align: middle;\n",
              "    }\n",
              "\n",
              "    .dataframe tbody tr th {\n",
              "        vertical-align: top;\n",
              "    }\n",
              "\n",
              "    .dataframe thead th {\n",
              "        text-align: right;\n",
              "    }\n",
              "</style>\n",
              "<table border=\"1\" class=\"dataframe\">\n",
              "  <thead>\n",
              "    <tr style=\"text-align: right;\">\n",
              "      <th></th>\n",
              "      <th>Implied Daily Average Volume in $B</th>\n",
              "      <th>Growth Rates %</th>\n",
              "    </tr>\n",
              "    <tr>\n",
              "      <th>Year</th>\n",
              "      <th></th>\n",
              "      <th></th>\n",
              "    </tr>\n",
              "  </thead>\n",
              "  <tbody>\n",
              "    <tr>\n",
              "      <th>2023.0000</th>\n",
              "      <td>0.3698</td>\n",
              "      <td>221.6086</td>\n",
              "    </tr>\n",
              "    <tr>\n",
              "      <th>2024.0000</th>\n",
              "      <td>1.0045</td>\n",
              "      <td>171.5835</td>\n",
              "    </tr>\n",
              "    <tr>\n",
              "      <th>2025.0000</th>\n",
              "      <td>2.3389</td>\n",
              "      <td>132.8508</td>\n",
              "    </tr>\n",
              "    <tr>\n",
              "      <th>2026.0000</th>\n",
              "      <td>4.7447</td>\n",
              "      <td>102.8616</td>\n",
              "    </tr>\n",
              "    <tr>\n",
              "      <th>2027.0000</th>\n",
              "      <td>8.5234</td>\n",
              "      <td>79.6420</td>\n",
              "    </tr>\n",
              "  </tbody>\n",
              "</table>\n",
              "</div>"
            ],
            "text/plain": [
              "           Implied Daily Average Volume in $B  Growth Rates %\n",
              "Year                                                         \n",
              "2023.0000                              0.3698        221.6086\n",
              "2024.0000                              1.0045        171.5835\n",
              "2025.0000                              2.3389        132.8508\n",
              "2026.0000                              4.7447        102.8616\n",
              "2027.0000                              8.5234         79.6420"
            ]
          },
          "execution_count": 295,
          "metadata": {},
          "output_type": "execute_result"
        }
      ],
      "source": [
        "sanity1(1, 5)"
      ]
    },
    {
      "cell_type": "code",
      "execution_count": null,
      "metadata": {
        "id": "SsCWUBS3oo8V"
      },
      "outputs": [],
      "source": []
    }
  ],
  "metadata": {
    "kernelspec": {
      "display_name": "Python 3 (ipykernel)",
      "language": "python",
      "name": "python3"
    },
    "language_info": {
      "codemirror_mode": {
        "name": "ipython",
        "version": 3
      },
      "file_extension": ".py",
      "mimetype": "text/x-python",
      "name": "python",
      "nbconvert_exporter": "python",
      "pygments_lexer": "ipython3",
      "version": "3.9.12"
    },
    "colab": {
      "provenance": [],
      "include_colab_link": true
    }
  },
  "nbformat": 4,
  "nbformat_minor": 0
}